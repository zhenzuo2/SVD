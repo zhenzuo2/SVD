{
 "cells": [
  {
   "cell_type": "code",
   "execution_count": null,
   "metadata": {
    "collapsed": false
   },
   "outputs": [],
   "source": [
    "k= input('Enter how many eigenvalues do you want:')\n",
    "k=int(k)\n",
    "from PIL import Image\n",
    "from numpy import*\n",
    "import numpy\n",
    "import scipy\n",
    "temp=asarray(Image.open('mini.jpg'))\n",
    "temp.shape\n",
    "print(temp)\n",
    "red=numpy.zeros((temp.shape[0],temp.shape[1]))\n",
    "green=numpy.zeros((temp.shape[0],temp.shape[1]))\n",
    "blue=numpy.zeros((temp.shape[0],temp.shape[1]))\n",
    "for i in range(temp.shape[0]):\n",
    "    for j in range(temp.shape[1]):\n",
    "        a=i\n",
    "        b=j\n",
    "        red[a][b]=temp[a][b][0]\n",
    "        green[a][b]=temp[a][b][1]\n",
    "        blue[a][b]=temp[a][b][2]"
   ]
  },
  {
   "cell_type": "code",
   "execution_count": null,
   "metadata": {
    "collapsed": false
   },
   "outputs": [],
   "source": [
    "from getdecom import getdecom\n",
    "from terms import useterm\n",
    "newred=useterm(k,red)\n",
    "newgreen=useterm(k,green)\n",
    "newblue=useterm(k,blue)"
   ]
  },
  {
   "cell_type": "code",
   "execution_count": null,
   "metadata": {
    "collapsed": true
   },
   "outputs": [],
   "source": [
    "newtemp=numpy.zeros((temp.shape[0],temp.shape[1],temp.shape[2]),dtype=numpy.uint8)"
   ]
  },
  {
   "cell_type": "code",
   "execution_count": null,
   "metadata": {
    "collapsed": false
   },
   "outputs": [],
   "source": [
    "for i in range(temp.shape[0]):\n",
    "    for j in range(temp.shape[1]):\n",
    "        a=i\n",
    "        b=j\n",
    "        newtemp[a][b][0]=newred[a][b]\n",
    "        newtemp[a][b][1]=newgreen[a][b]\n",
    "        newtemp[a][b][2]=newblue[a][b]"
   ]
  },
  {
   "cell_type": "code",
   "execution_count": null,
   "metadata": {
    "collapsed": false
   },
   "outputs": [],
   "source": [
    "\n",
    "img=Image.fromarray(newtemp,'RGB')\n",
    "img.save(\"{}.jpg\".format(k))"
   ]
  }
 ],
 "metadata": {
  "kernelspec": {
   "display_name": "Python 3",
   "language": "python",
   "name": "python3"
  },
  "language_info": {
   "codemirror_mode": {
    "name": "ipython",
    "version": 3
   },
   "file_extension": ".py",
   "mimetype": "text/x-python",
   "name": "python",
   "nbconvert_exporter": "python",
   "pygments_lexer": "ipython3",
   "version": "3.4.0"
  }
 },
 "nbformat": 4,
 "nbformat_minor": 0
}
